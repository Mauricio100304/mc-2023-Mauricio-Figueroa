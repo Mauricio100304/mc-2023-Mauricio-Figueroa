{
  "nbformat": 4,
  "nbformat_minor": 0,
  "metadata": {
    "colab": {
      "provenance": []
    },
    "kernelspec": {
      "name": "python3",
      "display_name": "Python 3"
    },
    "language_info": {
      "name": "python"
    }
  },
  "cells": [
    {
      "cell_type": "code",
      "execution_count": null,
      "metadata": {
        "id": "s7EOZQtFt5j1"
      },
      "outputs": [],
      "source": [
        "import numpy as np\n",
        "\n",
        "# Función de interpolación de Lagrange\n",
        "def lagrange_interpolation(x, y, x_ingresado, grado):\n",
        "    y_estimacion = 0\n",
        "    \n",
        "    for i in range(grado+1):\n",
        "        valor_y = y[i]\n",
        "        for j in range(grado+1):\n",
        "            if j != i:\n",
        "                valor_y *= (x_ingresado - x[j]) / (x[i] - x[j])\n",
        "        y_estimacion += valor_y\n",
        "    \n",
        "    return y_estimacion\n",
        "\n",
        "# Inicio del programa\n",
        "if __name__ == \"__main__\":\n",
        "    # Ingresar puntos\n",
        "    n = int(input(\"Ingrese el numero de puntos: \"))\n",
        "    x = np.zeros(n)\n",
        "    y = np.zeros(n)\n",
        "    \n",
        "    for i in range(n):\n",
        "        x[i] = float(input(f\"Ingrese el valor de x{i+1}: \"))\n",
        "        y[i] = float(input(f\"Ingrese el valor de y{i+1}: \"))\n",
        "    \n",
        "    # Ingresar el valor de x a estimar\n",
        "    x_ingresado = float(input(\"Ingrese el valor de x a estimar: \"))\n",
        "    \n",
        "    # Estimaciones de interpolación de Lagrange para diferentes grados\n",
        "    y_est1 = lagrange_interpolation(x, y, x_ingresado, 1)\n",
        "    print(f\"La estimación para el grado 1 es: {y_est3}\")\n",
        "    \n",
        "    y_est2 = lagrange_interpolation(x, y, x_ingresado, 2)\n",
        "    print(f\"La estimación para el grado 2 es: {y_est2}\")\n",
        "    \n",
        "    y_est3 = lagrange_interpolation(x, y, x_ingresado, 3)\n",
        "    print(f\"La estimación para el grado 3 es: {y_est1}\")"
      ]
    }
  ]
}