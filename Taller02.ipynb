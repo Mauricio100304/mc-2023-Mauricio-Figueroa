{
  "nbformat": 4,
  "nbformat_minor": 0,
  "metadata": {
    "colab": {
      "provenance": []
    },
    "kernelspec": {
      "name": "python3",
      "display_name": "Python 3"
    },
    "language_info": {
      "name": "python"
    }
  },
  "cells": [
    {
      "cell_type": "code",
      "source": [
        "A, B, D, cont = set(), set(), set(), 0\n",
        "\n",
        "for x in range(6,21):\n",
        "  A.add(x)\n",
        "\n",
        "for x in range(1,25):\n",
        "  if x % 2 == 0:\n",
        "    B.add(x)\n",
        "\n",
        "C = {1,4,8,10,12,15,18,20}\n",
        "\n",
        "for x in range(2,46):\n",
        "  for y in range(2,46):\n",
        "    if x % y == 0:\n",
        "      cont += 1\n",
        "  if cont == 1:\n",
        "    D.add(x)\n",
        "  cont = 0\n",
        "\n",
        "def union(a,b):\n",
        "  c = set()\n",
        "  for x in a:\n",
        "    c.add(x)\n",
        "  for x in b:\n",
        "    c.add(x)\n",
        "  return c\n",
        "\n",
        "def inter(a,b):\n",
        "  c = set()\n",
        "  for x in a:\n",
        "    if x in b:\n",
        "      c.add(x)\n",
        "  return c\n",
        "\n",
        "def difer(a,b):\n",
        "  c = set()\n",
        "  for x in a:\n",
        "    if x not in b:\n",
        "      c.add(x)\n",
        "  return c\n",
        "\n",
        "def difer_sime(a,b):\n",
        "  c = set()\n",
        "  for x in a:\n",
        "    if x not in b:\n",
        "      c.add(x)\n",
        "  for x in b:\n",
        "    if x not in a:\n",
        "      c.add(x)\n",
        "  return c\n",
        "\n",
        "print(\"A =\",A)\n",
        "print(\"B =\",B)\n",
        "print(\"C =\",C)\n",
        "print(\"D =\",D)\n",
        "\n",
        "print(\"\\nB ∩ (C ⊕ D) =\",inter(B,difer_sime(C,D)))\n",
        "print(\"(A ∩ C) ∪ B =\",union(inter(A,C),B))\n",
        "print(\"(B ∪ D) - C =\",difer(union(B,D),C))\n",
        "print(\"(A - B) ⊕ (A ∩ D) =\",difer_sime(difer(A,B),inter(A,D)))"
      ],
      "metadata": {
        "id": "DEk51OTKxn9S"
      },
      "execution_count": null,
      "outputs": []
    }
  ]
}
