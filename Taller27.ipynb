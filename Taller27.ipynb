{
  "nbformat": 4,
  "nbformat_minor": 0,
  "metadata": {
    "colab": {
      "provenance": []
    },
    "kernelspec": {
      "name": "python3",
      "display_name": "Python 3"
    },
    "language_info": {
      "name": "python"
    }
  },
  "cells": [
    {
      "cell_type": "code",
      "execution_count": null,
      "metadata": {
        "id": "Z9OH0AMqnomn"
      },
      "outputs": [],
      "source": [
        "def metodo_biseccion(a, b, epsilon):\n",
        "    max_iteraciones = 1000\n",
        "    iteracion = 1\n",
        "    c = 0\n",
        "\n",
        "    while iteracion <= max_iteraciones:\n",
        "        c = (a + b) / 2\n",
        "\n",
        "        if abs(f(c)) < epsilon:\n",
        "            break\n",
        "\n",
        "        if f(a) * f(c) < 0:\n",
        "            b = c\n",
        "        else:\n",
        "            a = c\n",
        "\n",
        "        iteracion += 1\n",
        "\n",
        "    return c, iteracion\n",
        "\n",
        "def f(x):\n",
        "    return 1.5 * x**3 - 3.5 * x**2 - 2 * x + 2\n",
        "\n",
        "# Parámetros iniciales\n",
        "a = 0.5  \n",
        "b = 1  \n",
        "epsilon = 0.0001  \n",
        "\n",
        "# Aplicar el método de la bisección\n",
        "resultado, num_iteraciones = metodo_biseccion(a, b, epsilon)\n",
        "\n",
        "# Imprimir resultados\n",
        "print(\"La raíz aproximada es:\", resultado)\n",
        "print(\"Error aproximado:\", f(resultado))\n",
        "print(\"Número de iteraciones:\", num_iteraciones)"
      ]
    }
  ]
}