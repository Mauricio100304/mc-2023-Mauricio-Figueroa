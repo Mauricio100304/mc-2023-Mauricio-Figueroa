{
  "nbformat": 4,
  "nbformat_minor": 0,
  "metadata": {
    "colab": {
      "provenance": []
    },
    "kernelspec": {
      "name": "python3",
      "display_name": "Python 3"
    },
    "language_info": {
      "name": "python"
    }
  },
  "cells": [
    {
      "cell_type": "code",
      "execution_count": null,
      "metadata": {
        "id": "XICw0Z2h5SMx"
      },
      "outputs": [],
      "source": [
        "import math\n",
        "\n",
        "def f(x):\n",
        "    return x**2 - math.exp(-2*x) - 3\n",
        "\n",
        "def f_prima(x):\n",
        "    return 2*x + 2*math.exp(-2*x)\n",
        "\n",
        "def newton_raphson(guess, precision):\n",
        "    repeticiones= 0\n",
        "    x = guess\n",
        "    \n",
        "    while True:\n",
        "        repeticiones += 1\n",
        "        x_next = x - f(x) / f_prima(x)\n",
        "        \n",
        "        if abs(x_next - x) < precision:\n",
        "            break\n",
        "        \n",
        "        x = x_next\n",
        "    \n",
        "    return round(x, 8), repeticiones\n",
        "\n",
        "initial_guess = 1.0\n",
        "precision = 0.5 * 10**-8\n",
        "\n",
        "raiz, repeticiones = newton_raphson(initial_guess, precision)\n",
        "\n",
        "print(\"Raíz estimada:\", raiz)\n",
        "print(\"Número de iteraciones:\", repeticiones)"
      ]
    }
  ]
}