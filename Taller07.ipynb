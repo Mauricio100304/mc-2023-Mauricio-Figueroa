{
  "nbformat": 4,
  "nbformat_minor": 0,
  "metadata": {
    "colab": {
      "provenance": []
    },
    "kernelspec": {
      "name": "python3",
      "display_name": "Python 3"
    },
    "language_info": {
      "name": "python"
    }
  },
  "cells": [
    {
      "cell_type": "code",
      "execution_count": null,
      "metadata": {
        "id": "IkFOLy9jAhrr"
      },
      "outputs": [],
      "source": [
        "import math\n",
        "from math import factorial\n",
        "\n",
        "es = 0.5 *  10**-8 * 100\n",
        "ea = 100\n",
        "num = 0.85\n",
        "potencia = 1\n",
        "valor = 1\n",
        "iteraciones = 1\n",
        "e = 1\n",
        "while ea >= es:\n",
        "  op = (pow(num,potencia)/factorial(valor))\n",
        "  e += op\n",
        "  e2 = 1/e\n",
        "  iteraciones += 1\n",
        "  ea = abs(((e2-ea)/e2)*100)\n",
        "  valor += 1\n",
        "  potencia += 1\n",
        "  #iteracion 2\n",
        "  op = (pow(num,potencia)/factorial(valor))\n",
        "  e += op\n",
        "  e3 = 1/e\n",
        "  iteraciones += 1\n",
        "  ea = abs(((e3-e2)/e2)*100)\n",
        "  valor += 1\n",
        "  potencia += 1\n",
        "else:\n",
        "  print(\"El valor estimado es de: \", e2)\n",
        "  print(\"El error aproximado porcentual es de: \", ea, \"%\")\n",
        "  print(\"El numero de iteraciones fue: \", iteraciones)\n",
        "  \n",
        "  \n",
        "#Segundo punto\n",
        "es4 = 0.5 *  10**-8 * 100\n",
        "ea4 = 100\n",
        "\n",
        "num4 = 0.85\n",
        "potencia4 = 1\n",
        "valor4 = 1\n",
        "iteraciones4 = 1\n",
        "e4 = 1\n",
        "while ea4 >= es4:\n",
        "  op4 = (pow(num4,potencia4)/factorial(valor4))\n",
        "  e4 -= op4\n",
        "  iteraciones4 += 1\n",
        "  ea4 = abs(((e4-ea4)/e4)*100)\n",
        "  valor4 += 1\n",
        "  potencia4 += 1\n",
        "  #iteracion 2\n",
        "  op6 = (pow(num4,potencia4)/factorial(valor4))\n",
        "  e6 = e4 + op6\n",
        "  iteraciones4 += 1\n",
        "  ea4 = abs(((e6-e4)/e6)*100)\n",
        "  valor4 += 1\n",
        "  potencia4 += 1\n",
        "else:\n",
        "  print(\"valor estimado: \", e4)\n",
        "  print(\"error aproximado porcentual: \", ea4, \"%\")\n",
        "  print(\"iteraciones: \", iteraciones4)"
      ]
    }
  ]
}
