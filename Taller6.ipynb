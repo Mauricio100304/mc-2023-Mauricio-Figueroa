{
  "nbformat": 4,
  "nbformat_minor": 0,
  "metadata": {
    "colab": {
      "provenance": []
    },
    "kernelspec": {
      "name": "python3",
      "display_name": "Python 3"
    },
    "language_info": {
      "name": "python"
    }
  },
  "cells": [
    {
      "cell_type": "code",
      "execution_count": null,
      "metadata": {
        "id": "w5LUvc-nv9Hk"
      },
      "outputs": [],
      "source": [
        "import math\n",
        "n=float(input(\"Escriba un número en radianes \\n\"))\n",
        "es=(0.5*pow(10,-8))*100\n",
        "inter=1\n",
        "pot=2\n",
        "val=1\n",
        "sign=-1\n",
        "\n",
        "while n > es:\n",
        "    if sign==-1:\n",
        "        op=round((val+pow(n,pot)) / math.factorial(pot),8)\n",
        "        val=float(op)\n",
        "        print(f'Interacion # {inter}')\n",
        "        inter +=1\n",
        "        pot +=2\n",
        "        sign *= -1\n",
        "    else:\n",
        "        op=round((val-pow(n,pot)) / math.factorial(pot),8)\n",
        "        val=float(op)\n",
        "        print(f\"Interacion # {inter}\")\n",
        "        inter +=1\n",
        "        pot +=2\n",
        "        sign *=-1\n",
        "    print(f'El valor del coseno es:{val}')"
      ]
    }
  ]
}