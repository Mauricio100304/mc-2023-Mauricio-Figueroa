{
  "nbformat": 4,
  "nbformat_minor": 0,
  "metadata": {
    "colab": {
      "provenance": []
    },
    "kernelspec": {
      "name": "python3",
      "display_name": "Python 3"
    },
    "language_info": {
      "name": "python"
    }
  },
  "cells": [
    {
      "cell_type": "code",
      "execution_count": null,
      "metadata": {
        "id": "AhMYUWcqCgYP"
      },
      "outputs": [],
      "source": [
        "import numpy as np\n",
        "import matplotlib.pyplot as plt\n",
        "\n",
        "xn=np.array([2, 4, 6, 8, 10, 12])\n",
        "yn=np.array([2.2 , 3 , 4.5 , 6 , 8.5 , 12])\n",
        "\n",
        "def menu():\n",
        "    print(\"[1] Minimo cuadrado\")\n",
        "    print(\"[2] Exponencial\")\n",
        "\n",
        "def minimo_cuadrado():\n",
        "    n=len(xn)\n",
        "    Sum_x=sum(xn)\n",
        "    Sum_y=sum(yn)\n",
        "    Sum_xx=sum(xn**2)\n",
        "    Sum_xy=sum(xn*yn)\n",
        "\n",
        "    print(Sum_x, Sum_y, Sum_xx, Sum_xy) \n",
        "\n",
        "    a_0=(Sum_xx*Sum_y-Sum_xy*Sum_x)/(n*Sum_xx-Sum_x**2)\n",
        "    a_1=(n*Sum_xy-Sum_x*Sum_y)/(n*Sum_xx-Sum_x**2)\n",
        "    print(a_0, a_1)\n",
        "\n",
        "    x=np.linspace(7, 12, 2)\n",
        "    y=a_0+a_1*x\n",
        "\n",
        "    plt.figure(1)\n",
        "    plt.scatter(xn, yn, color='r')\n",
        "    plt.grid(linestyle='dotted')\n",
        "    plt.plot(x, y, color='b')\n",
        "    plt.title(r'$\\delta ^{13}C$ vs $\\delta ^{18}O$', fontsize=20)\n",
        "    plt.xlabel(r'$\\delta ^{13}C$', fontsize=16)\n",
        "    plt.ylabel(r'$\\delta ^{18}O$', fontsize=16)\n",
        "    plt.xlim(7, 12)\n",
        "    plt.show()\n",
        "\n",
        "def exponencial():\n",
        "    log_a = np.log(xn)\n",
        "    log_b = np.log(yn)\n",
        "\n",
        "    coefficients = np.polyfit(xn, log_b, 1)\n",
        "    print(coefficients)\n",
        "\n",
        "    c = np.exp(1.17) * np.exp(0.06*xn)\n",
        "    plt.plot(xn, yn, \"o\")\n",
        "    plt.plot(xn, c)\n",
        "    plt.figure(1)\n",
        "    plt.scatter(xn, yn, color='r')\n",
        "    plt.grid(linestyle='dotted')\n",
        "    plt.plot(xn, yn, color='b')\n",
        "    plt.title(r'$\\delta ^{13}C$ vs $\\delta ^{18}O$', fontsize=20)\n",
        "    plt.xlabel(r'$\\delta ^{13}C$', fontsize=16)\n",
        "    plt.ylabel(r'$\\delta ^{18}O$', fontsize=16)\n",
        "    plt.xlim(7, 12)\n",
        "    plt.show()\n",
        "\n",
        "\n",
        "\n",
        "menu()\n",
        "option = int(input(\"Ingresa tu opcion: \"))\n",
        " \n",
        "while option != 0:\n",
        "    if option == 1:\n",
        "        minimo_cuadrado()\n",
        "        break\n",
        "    elif option == 2:\n",
        "        exponencial()\n",
        "        break\n",
        "    else:\n",
        "        print(\"Opcion invalida\")\n",
        "        break"
      ]
    }
  ]
}