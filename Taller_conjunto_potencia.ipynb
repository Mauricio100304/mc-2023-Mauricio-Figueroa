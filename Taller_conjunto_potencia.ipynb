{
  "nbformat": 4,
  "nbformat_minor": 0,
  "metadata": {
    "colab": {
      "provenance": []
    },
    "kernelspec": {
      "name": "python3",
      "display_name": "Python 3"
    },
    "language_info": {
      "name": "python"
    }
  },
  "cells": [
    {
      "cell_type": "code",
      "source": [
        "from sympy import FiniteSet\n",
        "from collections import deque"
      ],
      "metadata": {
        "id": "UJSumgLR-ktl"
      },
      "execution_count": 1,
      "outputs": []
    },
    {
      "cell_type": "code",
      "execution_count": null,
      "metadata": {
        "id": "NzsLRB_m-jtj"
      },
      "outputs": [],
      "source": [
        "def findPowerSet(S, s, n):\n",
        "\n",
        "    if n == 0:\n",
        "        print(s)\n",
        "        return\n",
        "\n",
        "    s.append(S[n - 1])\n",
        "    findPowerSet(S, s, n - 1)\n",
        " \n",
        "    s.pop()                    \n",
        " \n",
        "    findPowerSet(S, s, n - 1)\n",
        " \n",
        " \n",
        "if __name__ == '__main__':\n",
        " \n",
        "    a=set()\n",
        "    n = int(input(\"ingrese la cardinalidad del conjunto: \"))\n",
        "    for x in range(0, n):\n",
        "      elem = int(input(\"Ingrese un elemento: \"))\n",
        "      a.add(elem)\n",
        "    \n",
        "    S=[]\n",
        "    S.extend(a)\n",
        "    print(\"El conjunto potencia es:\")\n",
        "    s = []\n",
        "    findPowerSet(S, s, len(S))"
      ]
    }
  ]
}