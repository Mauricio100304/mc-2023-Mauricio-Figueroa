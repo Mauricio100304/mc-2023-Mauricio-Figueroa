{
  "nbformat": 4,
  "nbformat_minor": 0,
  "metadata": {
    "colab": {
      "provenance": []
    },
    "kernelspec": {
      "name": "python3",
      "display_name": "Python 3"
    },
    "language_info": {
      "name": "python"
    }
  },
  "cells": [
    {
      "cell_type": "code",
      "source": [
        "A, B, C = set(), set(), set()\n",
        "\n",
        "n = int(input(\"Ingrese el cardinal del conjunto A: \"))\n",
        "for x in range(0, n):\n",
        "    el = int(input(\"Ingrese un elemento del conjunto A: \"))\n",
        "    A.add(el)\n",
        "\n",
        "n = int(input(\"\\nIngrese el cardinal del conjunto B: \"))\n",
        "for x in range(0, n):\n",
        "    el = int(input(\"Ingrese un elemento del conjunto B: \"))\n",
        "    B.add(el)\n",
        "\n",
        "print(\"\\nEl conjunto A es =\",A,\"\\nEl conjunto B es =\",B)\n",
        "\n",
        "n = int(input(\"\\nElija la operacion a realizar entre el conjunto A y B\\n1 = Unión. \\n2 = Intersección. \\n3 = Diferencia (A-B). \\n4 = Diferencia (B-A). \\n5 = Diferencia simétrica. \\n \"))\n",
        "\n",
        "if n == 1:\n",
        "  for x in A:\n",
        "    C.add(x)\n",
        "  for x in B:\n",
        "    C.add(x)\n",
        "  print(\"\\nA =\",A,\"\\nB =\",B,\"\\n\\nA ∪ B = C \\nC =\",C,\"\\n|C| =\",len(C))\n",
        "elif n == 2:\n",
        "  for x in A:\n",
        "    if x in B:\n",
        "      C.add(x)\n",
        "  print(\"\\nA =\",A,\"\\nB =\",B,\"\\n\\nA ∩ B = C \\nC =\",C,\"\\n|C| =\",len(C))\n",
        "elif n == 3:\n",
        "  for x in A:\n",
        "    if x not in B:\n",
        "      C.add(x)\n",
        "  print(\"\\nA =\",A,\"\\nB =\",B,\"\\n\\nA - B = C \\nC =\",C,\"\\n|C| =\",len(C))\n",
        "elif n == 4:\n",
        "  for x in B:\n",
        "    if x not in A:\n",
        "      C.add(x)\n",
        "  print(\"\\nA =\",A,\"\\nB =\",B,\"\\n\\nB - A = C \\nC =\",C,\"\\n|C| =\",len(C))\n",
        "elif n == 5:\n",
        "  for x in A:\n",
        "    if x not in B:\n",
        "      C.add(x)\n",
        "  for x in B:\n",
        "    if x not in A:\n",
        "      C.add(x)\n",
        "  print(\"\\nA =\",A,\"\\nB =\",B,\"\\n\\nA ⊕ B = C \\nC =\",C,\"\\n|C| =\",len(C))"
      ],
      "metadata": {
        "id": "PcZuiMw9Ma5L"
      },
      "execution_count": null,
      "outputs": []
    }
  ]
}
