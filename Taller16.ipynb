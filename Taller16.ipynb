{
  "nbformat": 4,
  "nbformat_minor": 0,
  "metadata": {
    "colab": {
      "provenance": []
    },
    "kernelspec": {
      "name": "python3",
      "display_name": "Python 3"
    },
    "language_info": {
      "name": "python"
    }
  },
  "cells": [
    {
      "cell_type": "code",
      "execution_count": null,
      "metadata": {
        "id": "Hw_h8CGaQMo1"
      },
      "outputs": [],
      "source": [
        "import numpy as np\n",
        "import matplotlib.pyplot as plt\n",
        "\n",
        "xn=np.array([0, 1, 2, 3, 4, 5, 6,7])\n",
        "yn=np.array([3.5, 2.5, 3, 1.5, 2, 1.3, 1, 0.3])\n",
        "\n",
        "n=len(xn)\n",
        "\n",
        "Sum_x=sum(xn)\n",
        "Sum_y=sum(yn)\n",
        "Sum_xx=sum(xn**2)\n",
        "Sum_xy=sum(xn*yn)\n",
        "\n",
        "print(Sum_x, Sum_y, Sum_xx, Sum_xy) \n",
        "\n",
        "a_0=(Sum_xx*Sum_y-Sum_xy*Sum_x)/(n*Sum_xx-Sum_x**2)\n",
        "a_1=(n*Sum_xy-Sum_x*Sum_y)/(n*Sum_xx-Sum_x**2)\n",
        "print(\"y=\",a_0,\"+\", a_1, \"X\")\n",
        "\n",
        "x=np.linspace(7, 12, 2)\n",
        "y=a_0+a_1*x\n",
        "\n",
        "plt.figure(1)\n",
        "plt.scatter(xn, yn, color='r')\n",
        "plt.grid(linestyle='dotted')\n",
        "plt.plot(x, y, color='b')\n",
        "plt.title(r'$\\delta ^{13}C$ vs $\\delta ^{18}O$', fontsize=20)\n",
        "plt.xlabel(r'$\\delta ^{13}C$', fontsize=16)\n",
        "plt.ylabel(r'$\\delta ^{18}O$', fontsize=16)\n",
        "plt.xlim(7, 12)\n",
        "plt.text(9, -1.5, r'$\\delta ^{18}O=-6.919+0.799*\\delta ^{13}C$',\n",
        "    fontsize=12)\n",
        "plt.show()"
      ]
    },
    {
      "cell_type": "code",
      "source": [
        "import numpy as np\n",
        "import matplotlib.pyplot as plt\n",
        "\n",
        "n = int(input(\"Longitud: \"))\n",
        "x = []\n",
        "y = []\n",
        "scalar = 0\n",
        "\n",
        "for i in range(n):\n",
        "    x.append(float(input(\"Elemento X: \")))\n",
        "    y.append(float(input(\"Elemento Y: \")))\n",
        "\n",
        "xn=np.array(x)\n",
        "yn=np.array(y)\n",
        "\n",
        "n=len(xn)\n",
        "\n",
        "Sum_x=sum(xn)\n",
        "Sum_y=sum(yn)\n",
        "Sum_xx=sum(xn**2)\n",
        "Sum_xy=sum(xn*yn)\n",
        "\n",
        "print(Sum_x, Sum_y, Sum_xx, Sum_xy) \n",
        "\n",
        "a_0=(Sum_xx*Sum_y-Sum_xy*Sum_x)/(n*Sum_xx-Sum_x**2)\n",
        "a_1=(n*Sum_xy-Sum_x*Sum_y)/(n*Sum_xx-Sum_x**2)\n",
        "print(\"y=\",a_0,\"+\", a_1, \"X\")\n",
        "\n",
        "x=np.linspace(7, 12, 2)\n",
        "y=a_0+a_1*x\n",
        "\n",
        "plt.figure(1)\n",
        "plt.scatter(xn, yn, color='r')\n",
        "plt.grid(linestyle='dotted')\n",
        "plt.plot(x, y, color='b')\n",
        "plt.title(r'$\\delta ^{13}C$ vs $\\delta ^{18}O$', fontsize=20)\n",
        "plt.xlabel(r'$\\delta ^{13}C$', fontsize=16)\n",
        "plt.ylabel(r'$\\delta ^{18}O$', fontsize=16)\n",
        "plt.xlim(7, 12)\n",
        "plt.text(9, -1.5, r'$\\delta ^{18}O=-6.919+0.799*\\delta ^{13}C$',\n",
        "    fontsize=12)\n",
        "plt.show()"
      ],
      "metadata": {
        "id": "WRutVChPSzot"
      },
      "execution_count": null,
      "outputs": []
    }
  ]
}