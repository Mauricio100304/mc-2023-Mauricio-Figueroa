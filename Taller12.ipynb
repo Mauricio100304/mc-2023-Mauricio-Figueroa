{
  "nbformat": 4,
  "nbformat_minor": 0,
  "metadata": {
    "colab": {
      "provenance": []
    },
    "kernelspec": {
      "name": "python3",
      "display_name": "Python 3"
    },
    "language_info": {
      "name": "python"
    }
  },
  "cells": [
    {
      "cell_type": "code",
      "execution_count": null,
      "metadata": {
        "id": "vWednArE1qEX"
      },
      "outputs": [],
      "source": [
        "from math import factorial\n",
        "from math import e\n",
        "xi=0.45\n",
        "xi_1=0.455\n",
        "h=0.005\n",
        "valor_ant = 0\n",
        "operacion = 0\n",
        "for i in range(16):\n",
        "    if i % 2 ==0:\n",
        "        operacion+= (e**(-xi)/factorial(i))*h**i\n",
        "    else:\n",
        "        operacion -= (e**(-xi)/factorial(i)*h**i)\n",
        "\n",
        "    ea=abs((operacion-valor_ant)/operacion)*100\n",
        "    valor_ant=operacion\n",
        "    print(\"orden\",i)\n",
        "    print(\"Resultado\",operacion)\n",
        "    print(\"error\",ea,\"%\")\n",
        "    "
      ]
    }
  ]
}